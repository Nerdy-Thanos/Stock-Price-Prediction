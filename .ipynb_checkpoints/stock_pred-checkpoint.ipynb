{
 "cells": [
  {
   "cell_type": "markdown",
   "metadata": {},
   "source": [
    "# Predicting stock price\n",
    "\n",
    "## Linear Regression to predict values\n",
    "\n",
    "The Dataset contains stock price of TCS for a 5 year period"
   ]
  },
  {
   "cell_type": "code",
   "execution_count": 1,
   "metadata": {},
   "outputs": [],
   "source": [
    "#importing the required packages/libraries\n",
    "import pandas as pd\n",
    "import numpy as np\n",
    "from sklearn.linear_model import LinearRegression\n",
    "from sklearn.svm import SVR\n",
    "from sklearn.model_selection import train_test_split"
   ]
  },
  {
   "cell_type": "markdown",
   "metadata": {},
   "source": [
    "# Importing the Dataset"
   ]
  },
  {
   "cell_type": "code",
   "execution_count": 9,
   "metadata": {},
   "outputs": [
    {
     "data": {
      "text/html": [
       "<div>\n",
       "<style scoped>\n",
       "    .dataframe tbody tr th:only-of-type {\n",
       "        vertical-align: middle;\n",
       "    }\n",
       "\n",
       "    .dataframe tbody tr th {\n",
       "        vertical-align: top;\n",
       "    }\n",
       "\n",
       "    .dataframe thead th {\n",
       "        text-align: right;\n",
       "    }\n",
       "</style>\n",
       "<table border=\"1\" class=\"dataframe\">\n",
       "  <thead>\n",
       "    <tr style=\"text-align: right;\">\n",
       "      <th></th>\n",
       "      <th>Date</th>\n",
       "      <th>Open</th>\n",
       "      <th>High</th>\n",
       "      <th>Low</th>\n",
       "      <th>Close</th>\n",
       "      <th>Adj Close</th>\n",
       "      <th>Volume</th>\n",
       "    </tr>\n",
       "  </thead>\n",
       "  <tbody>\n",
       "    <tr>\n",
       "      <th>0</th>\n",
       "      <td>01-01-2015</td>\n",
       "      <td>1283.500000</td>\n",
       "      <td>1283.500000</td>\n",
       "      <td>1270.500000</td>\n",
       "      <td>1272.780029</td>\n",
       "      <td>1100.664063</td>\n",
       "      <td>366830</td>\n",
       "    </tr>\n",
       "    <tr>\n",
       "      <th>1</th>\n",
       "      <td>02-01-2015</td>\n",
       "      <td>1275.500000</td>\n",
       "      <td>1295.469971</td>\n",
       "      <td>1275.300049</td>\n",
       "      <td>1289.719971</td>\n",
       "      <td>1115.313232</td>\n",
       "      <td>925740</td>\n",
       "    </tr>\n",
       "    <tr>\n",
       "      <th>2</th>\n",
       "      <td>05-01-2015</td>\n",
       "      <td>1290.500000</td>\n",
       "      <td>1299.949951</td>\n",
       "      <td>1262.319946</td>\n",
       "      <td>1270.119995</td>\n",
       "      <td>1098.363892</td>\n",
       "      <td>1754242</td>\n",
       "    </tr>\n",
       "    <tr>\n",
       "      <th>3</th>\n",
       "      <td>06-01-2015</td>\n",
       "      <td>1264.550049</td>\n",
       "      <td>1264.550049</td>\n",
       "      <td>1220.000000</td>\n",
       "      <td>1223.300049</td>\n",
       "      <td>1057.875244</td>\n",
       "      <td>2423784</td>\n",
       "    </tr>\n",
       "    <tr>\n",
       "      <th>4</th>\n",
       "      <td>07-01-2015</td>\n",
       "      <td>1235.000000</td>\n",
       "      <td>1239.569946</td>\n",
       "      <td>1203.719971</td>\n",
       "      <td>1208.849976</td>\n",
       "      <td>1045.379272</td>\n",
       "      <td>2636332</td>\n",
       "    </tr>\n",
       "  </tbody>\n",
       "</table>\n",
       "</div>"
      ],
      "text/plain": [
       "         Date         Open         High          Low        Close  \\\n",
       "0  01-01-2015  1283.500000  1283.500000  1270.500000  1272.780029   \n",
       "1  02-01-2015  1275.500000  1295.469971  1275.300049  1289.719971   \n",
       "2  05-01-2015  1290.500000  1299.949951  1262.319946  1270.119995   \n",
       "3  06-01-2015  1264.550049  1264.550049  1220.000000  1223.300049   \n",
       "4  07-01-2015  1235.000000  1239.569946  1203.719971  1208.849976   \n",
       "\n",
       "     Adj Close   Volume  \n",
       "0  1100.664063   366830  \n",
       "1  1115.313232   925740  \n",
       "2  1098.363892  1754242  \n",
       "3  1057.875244  2423784  \n",
       "4  1045.379272  2636332  "
      ]
     },
     "execution_count": 9,
     "metadata": {},
     "output_type": "execute_result"
    }
   ],
   "source": [
    "df = pd.read_csv(\"new_book.csv\", na_values=['null'])\n",
    "#filling null values\n",
    "df['Adj Close'].fillna(df['Adj Close'].mean())\n",
    "\n",
    "df.head()\n"
   ]
  },
  {
   "cell_type": "code",
   "execution_count": 10,
   "metadata": {},
   "outputs": [
    {
     "data": {
      "text/html": [
       "<div>\n",
       "<style scoped>\n",
       "    .dataframe tbody tr th:only-of-type {\n",
       "        vertical-align: middle;\n",
       "    }\n",
       "\n",
       "    .dataframe tbody tr th {\n",
       "        vertical-align: top;\n",
       "    }\n",
       "\n",
       "    .dataframe thead th {\n",
       "        text-align: right;\n",
       "    }\n",
       "</style>\n",
       "<table border=\"1\" class=\"dataframe\">\n",
       "  <thead>\n",
       "    <tr style=\"text-align: right;\">\n",
       "      <th></th>\n",
       "      <th>Adj Close</th>\n",
       "    </tr>\n",
       "  </thead>\n",
       "  <tbody>\n",
       "    <tr>\n",
       "      <th>0</th>\n",
       "      <td>1100.664063</td>\n",
       "    </tr>\n",
       "    <tr>\n",
       "      <th>1</th>\n",
       "      <td>1115.313232</td>\n",
       "    </tr>\n",
       "    <tr>\n",
       "      <th>2</th>\n",
       "      <td>1098.363892</td>\n",
       "    </tr>\n",
       "    <tr>\n",
       "      <th>3</th>\n",
       "      <td>1057.875244</td>\n",
       "    </tr>\n",
       "    <tr>\n",
       "      <th>4</th>\n",
       "      <td>1045.379272</td>\n",
       "    </tr>\n",
       "  </tbody>\n",
       "</table>\n",
       "</div>"
      ],
      "text/plain": [
       "     Adj Close\n",
       "0  1100.664063\n",
       "1  1115.313232\n",
       "2  1098.363892\n",
       "3  1057.875244\n",
       "4  1045.379272"
      ]
     },
     "execution_count": 10,
     "metadata": {},
     "output_type": "execute_result"
    }
   ],
   "source": [
    "#Create a new df for manipulation/adding/removing coloumns\n",
    "new_df = df[['Adj Close']]\n",
    "new_df.head()"
   ]
  },
  {
   "cell_type": "code",
   "execution_count": 11,
   "metadata": {},
   "outputs": [
    {
     "name": "stderr",
     "output_type": "stream",
     "text": [
      "c:\\users\\vignesh\\miniconda3\\envs\\vis\\lib\\site-packages\\ipykernel_launcher.py:4: SettingWithCopyWarning: \n",
      "A value is trying to be set on a copy of a slice from a DataFrame.\n",
      "Try using .loc[row_indexer,col_indexer] = value instead\n",
      "\n",
      "See the caveats in the documentation: http://pandas.pydata.org/pandas-docs/stable/user_guide/indexing.html#returning-a-view-versus-a-copy\n",
      "  after removing the cwd from sys.path.\n"
     ]
    },
    {
     "data": {
      "text/html": [
       "<div>\n",
       "<style scoped>\n",
       "    .dataframe tbody tr th:only-of-type {\n",
       "        vertical-align: middle;\n",
       "    }\n",
       "\n",
       "    .dataframe tbody tr th {\n",
       "        vertical-align: top;\n",
       "    }\n",
       "\n",
       "    .dataframe thead th {\n",
       "        text-align: right;\n",
       "    }\n",
       "</style>\n",
       "<table border=\"1\" class=\"dataframe\">\n",
       "  <thead>\n",
       "    <tr style=\"text-align: right;\">\n",
       "      <th></th>\n",
       "      <th>Adj Close</th>\n",
       "      <th>Prediction</th>\n",
       "    </tr>\n",
       "  </thead>\n",
       "  <tbody>\n",
       "    <tr>\n",
       "      <th>0</th>\n",
       "      <td>1100.664063</td>\n",
       "      <td>1097.870850</td>\n",
       "    </tr>\n",
       "    <tr>\n",
       "      <th>1</th>\n",
       "      <td>1115.313232</td>\n",
       "      <td>1094.861206</td>\n",
       "    </tr>\n",
       "    <tr>\n",
       "      <th>2</th>\n",
       "      <td>1098.363892</td>\n",
       "      <td>1085.721069</td>\n",
       "    </tr>\n",
       "    <tr>\n",
       "      <th>3</th>\n",
       "      <td>1057.875244</td>\n",
       "      <td>1081.154907</td>\n",
       "    </tr>\n",
       "    <tr>\n",
       "      <th>4</th>\n",
       "      <td>1045.379272</td>\n",
       "      <td>1086.931396</td>\n",
       "    </tr>\n",
       "  </tbody>\n",
       "</table>\n",
       "</div>"
      ],
      "text/plain": [
       "     Adj Close   Prediction\n",
       "0  1100.664063  1097.870850\n",
       "1  1115.313232  1094.861206\n",
       "2  1098.363892  1085.721069\n",
       "3  1057.875244  1081.154907\n",
       "4  1045.379272  1086.931396"
      ]
     },
     "execution_count": 11,
     "metadata": {},
     "output_type": "execute_result"
    }
   ],
   "source": [
    "#variable to predict 'n' days into future\n",
    "forecast_out  = 10\n",
    "#add coloumn with target/dependent varible shifted by 'n' units\n",
    "new_df['Prediction'] = new_df['Adj Close'].shift(-forecast_out)\n",
    "new_df.head()"
   ]
  },
  {
   "cell_type": "code",
   "execution_count": 12,
   "metadata": {},
   "outputs": [
    {
     "name": "stdout",
     "output_type": "stream",
     "text": [
      "(1220, 1)\n"
     ]
    }
   ],
   "source": [
    "### Create independent dataset X ###\n",
    "#convert dataset to numpy array\n",
    "\n",
    "X = np.array(new_df.drop(['Prediction'],1))\n",
    "\n",
    "#Removing the last 'n' rows\n",
    "\n",
    "X = X[:-forecast_out]\n",
    "\n",
    "print(X.shape)"
   ]
  },
  {
   "cell_type": "code",
   "execution_count": 13,
   "metadata": {},
   "outputs": [
    {
     "data": {
      "text/plain": [
       "(1220,)"
      ]
     },
     "execution_count": 13,
     "metadata": {},
     "output_type": "execute_result"
    }
   ],
   "source": [
    "### Create Dependent dataset Y ###\n",
    "#Convert dataset to numpy array\n",
    "\n",
    "Y = np.array(new_df['Prediction'])\n",
    "Y = Y[:-forecast_out]\n",
    "Y.shape"
   ]
  },
  {
   "cell_type": "markdown",
   "metadata": {},
   "source": [
    "# Create test/train data"
   ]
  },
  {
   "cell_type": "code",
   "execution_count": 14,
   "metadata": {},
   "outputs": [],
   "source": [
    "#split the data into 80% train and 20% test\n",
    "x_train, x_test, y_train, y_test = train_test_split(X,Y,test_size = 0.2)"
   ]
  },
  {
   "cell_type": "markdown",
   "metadata": {},
   "source": [
    "## Create a Support Vector Machine"
   ]
  },
  {
   "cell_type": "code",
   "execution_count": 15,
   "metadata": {
    "scrolled": true
   },
   "outputs": [
    {
     "data": {
      "text/plain": [
       "SVR(C=1000.0, cache_size=200, coef0=0.0, degree=3, epsilon=0.1, gamma=0.1,\n",
       "    kernel='rbf', max_iter=-1, shrinking=True, tol=0.001, verbose=False)"
      ]
     },
     "execution_count": 15,
     "metadata": {},
     "output_type": "execute_result"
    }
   ],
   "source": [
    "svr_rbf = SVR(kernel = 'rbf', C = 1e3, gamma = 0.1)\n",
    "svr_rbf.fit(x_train,y_train)"
   ]
  },
  {
   "cell_type": "code",
   "execution_count": 16,
   "metadata": {},
   "outputs": [
    {
     "name": "stdout",
     "output_type": "stream",
     "text": [
      "SVM Confidence :  0.9400705376711567\n"
     ]
    }
   ],
   "source": [
    "#testing accuracy of the SVM \n",
    "svr_confidence = svr_rbf.score(x_test,y_test)\n",
    "print(\"SVM Confidence : \",svr_confidence)"
   ]
  },
  {
   "cell_type": "markdown",
   "metadata": {},
   "source": [
    "# Create a Linear Regression model"
   ]
  },
  {
   "cell_type": "code",
   "execution_count": 17,
   "metadata": {},
   "outputs": [
    {
     "data": {
      "text/plain": [
       "LinearRegression(copy_X=True, fit_intercept=True, n_jobs=None, normalize=False)"
      ]
     },
     "execution_count": 17,
     "metadata": {},
     "output_type": "execute_result"
    }
   ],
   "source": [
    "lr = LinearRegression()\n",
    "lr.fit(x_train,y_train)"
   ]
  },
  {
   "cell_type": "code",
   "execution_count": 18,
   "metadata": {},
   "outputs": [
    {
     "name": "stdout",
     "output_type": "stream",
     "text": [
      "Linear Regression confidence :  0.9739023192755302\n"
     ]
    }
   ],
   "source": [
    "#testing accuracy of Linear Regression model\n",
    "lr_confidence = lr.score(x_test,y_test)\n",
    "print(\"Linear Regression confidence : \",lr_confidence)"
   ]
  },
  {
   "cell_type": "code",
   "execution_count": 19,
   "metadata": {},
   "outputs": [
    {
     "name": "stdout",
     "output_type": "stream",
     "text": [
      "[[2160.044922]\n",
      " [2162.838623]\n",
      " [2223.999756]\n",
      " [2217.863525]\n",
      " [2226.643799]\n",
      " [2210.580322]\n",
      " [2196.961182]\n",
      " [2193.519043]\n",
      " [2178.253662]\n",
      " [2156.802246]]\n"
     ]
    }
   ],
   "source": [
    "x_forecast = np.array(new_df.drop(['Prediction'],1))[-forecast_out:]\n",
    "print(x_forecast)"
   ]
  },
  {
   "cell_type": "markdown",
   "metadata": {},
   "source": [
    "# Linear Regression prediction for the next 'n' days"
   ]
  },
  {
   "cell_type": "code",
   "execution_count": 20,
   "metadata": {},
   "outputs": [
    {
     "data": {
      "text/plain": [
       "array([2171.83906925, 2174.63753472, 2235.90297415, 2229.7562782 ,\n",
       "       2238.5515264 , 2222.46065416, 2208.81828758, 2205.37027823,\n",
       "       2190.07886309, 2168.59086307])"
      ]
     },
     "execution_count": 20,
     "metadata": {},
     "output_type": "execute_result"
    }
   ],
   "source": [
    "predict = lr.predict(x_forecast)\n",
    "predict"
   ]
  },
  {
   "cell_type": "code",
   "execution_count": 21,
   "metadata": {},
   "outputs": [
    {
     "data": {
      "text/plain": [
       "array([2101.92094138, 2142.57850311, 2129.35686548, 1683.6428243 ,\n",
       "       2103.96397208, 2243.92550237, 2098.22227298, 2129.90385246,\n",
       "       2164.75257638, 2051.42379984])"
      ]
     },
     "execution_count": 21,
     "metadata": {},
     "output_type": "execute_result"
    }
   ],
   "source": [
    "svm_pred = svr_rbf.predict(x_forecast)\n",
    "svm_pred"
   ]
  },
  {
   "cell_type": "markdown",
   "metadata": {},
   "source": [
    "# Compare predictions to actual"
   ]
  },
  {
   "cell_type": "code",
   "execution_count": 22,
   "metadata": {},
   "outputs": [
    {
     "data": {
      "text/html": [
       "<div>\n",
       "<style scoped>\n",
       "    .dataframe tbody tr th:only-of-type {\n",
       "        vertical-align: middle;\n",
       "    }\n",
       "\n",
       "    .dataframe tbody tr th {\n",
       "        vertical-align: top;\n",
       "    }\n",
       "\n",
       "    .dataframe thead th {\n",
       "        text-align: right;\n",
       "    }\n",
       "</style>\n",
       "<table border=\"1\" class=\"dataframe\">\n",
       "  <thead>\n",
       "    <tr style=\"text-align: right;\">\n",
       "      <th></th>\n",
       "      <th>Actual</th>\n",
       "      <th>SVM_Pred</th>\n",
       "      <th>LR_Pred</th>\n",
       "    </tr>\n",
       "  </thead>\n",
       "  <tbody>\n",
       "    <tr>\n",
       "      <th>0</th>\n",
       "      <td>2160.044922</td>\n",
       "      <td>2101.920941</td>\n",
       "      <td>2171.839069</td>\n",
       "    </tr>\n",
       "    <tr>\n",
       "      <th>1</th>\n",
       "      <td>2162.838623</td>\n",
       "      <td>2142.578503</td>\n",
       "      <td>2174.637535</td>\n",
       "    </tr>\n",
       "    <tr>\n",
       "      <th>2</th>\n",
       "      <td>2223.999756</td>\n",
       "      <td>2129.356865</td>\n",
       "      <td>2235.902974</td>\n",
       "    </tr>\n",
       "    <tr>\n",
       "      <th>3</th>\n",
       "      <td>2217.863525</td>\n",
       "      <td>1683.642824</td>\n",
       "      <td>2229.756278</td>\n",
       "    </tr>\n",
       "    <tr>\n",
       "      <th>4</th>\n",
       "      <td>2226.643799</td>\n",
       "      <td>2103.963972</td>\n",
       "      <td>2238.551526</td>\n",
       "    </tr>\n",
       "    <tr>\n",
       "      <th>5</th>\n",
       "      <td>2210.580322</td>\n",
       "      <td>2243.925502</td>\n",
       "      <td>2222.460654</td>\n",
       "    </tr>\n",
       "    <tr>\n",
       "      <th>6</th>\n",
       "      <td>2196.961182</td>\n",
       "      <td>2098.222273</td>\n",
       "      <td>2208.818288</td>\n",
       "    </tr>\n",
       "    <tr>\n",
       "      <th>7</th>\n",
       "      <td>2193.519043</td>\n",
       "      <td>2129.903852</td>\n",
       "      <td>2205.370278</td>\n",
       "    </tr>\n",
       "    <tr>\n",
       "      <th>8</th>\n",
       "      <td>2178.253662</td>\n",
       "      <td>2164.752576</td>\n",
       "      <td>2190.078863</td>\n",
       "    </tr>\n",
       "    <tr>\n",
       "      <th>9</th>\n",
       "      <td>2156.802246</td>\n",
       "      <td>2051.423800</td>\n",
       "      <td>2168.590863</td>\n",
       "    </tr>\n",
       "  </tbody>\n",
       "</table>\n",
       "</div>"
      ],
      "text/plain": [
       "        Actual     SVM_Pred      LR_Pred\n",
       "0  2160.044922  2101.920941  2171.839069\n",
       "1  2162.838623  2142.578503  2174.637535\n",
       "2  2223.999756  2129.356865  2235.902974\n",
       "3  2217.863525  1683.642824  2229.756278\n",
       "4  2226.643799  2103.963972  2238.551526\n",
       "5  2210.580322  2243.925502  2222.460654\n",
       "6  2196.961182  2098.222273  2208.818288\n",
       "7  2193.519043  2129.903852  2205.370278\n",
       "8  2178.253662  2164.752576  2190.078863\n",
       "9  2156.802246  2051.423800  2168.590863"
      ]
     },
     "execution_count": 22,
     "metadata": {},
     "output_type": "execute_result"
    }
   ],
   "source": [
    "actual = df['Adj Close'].tail(forecast_out)\n",
    "actual = np.array(actual)\n",
    "final = [actual,svm_pred,predict]\n",
    "#Creating a sample Dataframe to compare values\n",
    "pred_df = pd.DataFrame(data=actual,columns=['Actual'])\n",
    "pred_df['SVM_Pred'] = svm_pred\n",
    "pred_df['LR_Pred'] = predict\n",
    "pred_df"
   ]
  },
  {
   "cell_type": "code",
   "execution_count": null,
   "metadata": {},
   "outputs": [],
   "source": []
  }
 ],
 "metadata": {
  "kernelspec": {
   "display_name": "Python 3",
   "language": "python",
   "name": "python3"
  },
  "language_info": {
   "codemirror_mode": {
    "name": "ipython",
    "version": 3
   },
   "file_extension": ".py",
   "mimetype": "text/x-python",
   "name": "python",
   "nbconvert_exporter": "python",
   "pygments_lexer": "ipython3",
   "version": "3.6.9"
  }
 },
 "nbformat": 4,
 "nbformat_minor": 2
}
